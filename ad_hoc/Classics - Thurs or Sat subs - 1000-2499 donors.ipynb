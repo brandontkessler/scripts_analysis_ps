{
 "cells": [
  {
   "cell_type": "code",
   "execution_count": 1,
   "metadata": {},
   "outputs": [],
   "source": [
    "import pandas as pd"
   ]
  },
  {
   "cell_type": "code",
   "execution_count": 2,
   "metadata": {},
   "outputs": [],
   "source": [
    "from transform_ps.etl.data_type import DataFactory\n",
    "from transform_ps.etl.util import clear_cwd_cache"
   ]
  },
  {
   "cell_type": "code",
   "execution_count": 3,
   "metadata": {},
   "outputs": [
    {
     "name": "stdout",
     "output_type": "stream",
     "text": [
      "cache is now empty\n"
     ]
    }
   ],
   "source": [
    "clear_cwd_cache()"
   ]
  },
  {
   "cell_type": "code",
   "execution_count": 4,
   "metadata": {},
   "outputs": [],
   "source": [
    "factory = DataFactory()"
   ]
  },
  {
   "cell_type": "markdown",
   "metadata": {},
   "source": [
    "### Get Subscriber info"
   ]
  },
  {
   "cell_type": "code",
   "execution_count": 5,
   "metadata": {},
   "outputs": [],
   "source": [
    "sub = factory.create_data_type('subscriber')"
   ]
  },
  {
   "cell_type": "code",
   "execution_count": 6,
   "metadata": {},
   "outputs": [
    {
     "name": "stdout",
     "output_type": "stream",
     "text": [
      "Finished prepare_data in 0.0096 secs\n",
      "Finished prepare_data in 0.0117 secs\n"
     ]
    }
   ],
   "source": [
    "sub.get_data(fys=20)"
   ]
  },
  {
   "cell_type": "code",
   "execution_count": 7,
   "metadata": {},
   "outputs": [],
   "source": [
    "clx_pkgs = sub.working.loc[sub.working.season_desc.map(lambda x: 'Classics' in x)].reset_index(drop=True)"
   ]
  },
  {
   "cell_type": "code",
   "execution_count": 8,
   "metadata": {},
   "outputs": [],
   "source": [
    "thu_sat_clx = clx_pkgs.loc[clx_pkgs.pkg_desc.map(lambda x: 'Thu' in x or 'Sat' in x)]"
   ]
  },
  {
   "cell_type": "code",
   "execution_count": 9,
   "metadata": {},
   "outputs": [],
   "source": [
    "thu_sat_clx_subs = list(thu_sat_clx.customer_no.drop_duplicates())"
   ]
  },
  {
   "cell_type": "markdown",
   "metadata": {},
   "source": [
    "### Get Donor Info"
   ]
  },
  {
   "cell_type": "code",
   "execution_count": 10,
   "metadata": {},
   "outputs": [],
   "source": [
    "donor = factory.create_data_type('donor')"
   ]
  },
  {
   "cell_type": "code",
   "execution_count": 11,
   "metadata": {},
   "outputs": [
    {
     "name": "stdout",
     "output_type": "stream",
     "text": [
      "not found in cache\n",
      "saved working to cache\n",
      "Finished prepare_data in 2.4305 secs\n"
     ]
    }
   ],
   "source": [
    "donor.get_data(fys=13)"
   ]
  },
  {
   "cell_type": "markdown",
   "metadata": {},
   "source": [
    "### Filter for Annual Fund"
   ]
  },
  {
   "attachments": {},
   "cell_type": "markdown",
   "metadata": {},
   "source": [
    "* Green - Leave on the list and count toward giving total (should be all the funds Nikki said were ok)\n",
    "* Yellow - Leave on the list but do not count toward giving total\n",
    "* Red - Remove from list and do not count toward giving total"
   ]
  },
  {
   "cell_type": "code",
   "execution_count": 12,
   "metadata": {},
   "outputs": [],
   "source": [
    "fund_categories = {row[0]: row[1] for index, row in pd.read_csv('funds_fy19-20.csv').iterrows()}"
   ]
  },
  {
   "cell_type": "markdown",
   "metadata": {},
   "source": [
    "##### FY20 Donors for manip"
   ]
  },
  {
   "cell_type": "code",
   "execution_count": 13,
   "metadata": {},
   "outputs": [],
   "source": [
    "fy20_donors = donor.type.filters['fys'](donor.working, fys=[20])\n",
    "fy20_donors['fund_color_cat'] = fy20_donors['fund_desc'].map(fund_categories)"
   ]
  },
  {
   "cell_type": "markdown",
   "metadata": {},
   "source": [
    "##### FY19-20 Donors for manip"
   ]
  },
  {
   "cell_type": "code",
   "execution_count": 14,
   "metadata": {},
   "outputs": [],
   "source": [
    "fy19_20_donors = donor.type.filters['fys'](donor.working, fys=[19, 20])\n",
    "fy19_20_donors['fund_color_cat'] = fy19_20_donors['fund_desc'].map(fund_categories)"
   ]
  },
  {
   "cell_type": "markdown",
   "metadata": {},
   "source": [
    "##### FY19 and FY20 donors separated for working with"
   ]
  },
  {
   "cell_type": "code",
   "execution_count": 15,
   "metadata": {},
   "outputs": [],
   "source": [
    "d19 = donor.type.filters['fys'](donor.working, fys=[19])\n",
    "d20 = donor.type.filters['fys'](donor.working, fys=[20])"
   ]
  },
  {
   "cell_type": "code",
   "execution_count": 16,
   "metadata": {},
   "outputs": [],
   "source": [
    "d19['fund_color_cat'] = d19['fund_desc'].map(fund_categories)\n",
    "d20['fund_color_cat'] = d20['fund_desc'].map(fund_categories)"
   ]
  },
  {
   "cell_type": "markdown",
   "metadata": {},
   "source": [
    "##### FY20 Box Circle Members (Classics/Pops) + Red Donors"
   ]
  },
  {
   "cell_type": "code",
   "execution_count": 17,
   "metadata": {},
   "outputs": [],
   "source": [
    "fy20_box = fy20_donors.loc[fy20_donors['fund_color_cat'] == 'Box']['summary_cust_id'].drop_duplicates()"
   ]
  },
  {
   "cell_type": "code",
   "execution_count": 18,
   "metadata": {},
   "outputs": [],
   "source": [
    "red_donors = fy19_20_donors.loc[fy19_20_donors['fund_color_cat'] == 'Red']['summary_cust_id'].drop_duplicates()"
   ]
  },
  {
   "cell_type": "markdown",
   "metadata": {},
   "source": [
    "#### Filter out all customers in red_donors and fy20_box (customers)"
   ]
  },
  {
   "cell_type": "code",
   "execution_count": 19,
   "metadata": {},
   "outputs": [],
   "source": [
    "d19 = d19.loc[~d19['summary_cust_id'].isin(fy20_box)]\n",
    "d20 = d20.loc[~d20['summary_cust_id'].isin(fy20_box)]"
   ]
  },
  {
   "cell_type": "code",
   "execution_count": 20,
   "metadata": {},
   "outputs": [],
   "source": [
    "d19 = d19.loc[~d19['summary_cust_id'].isin(red_donors)]\n",
    "d20 = d20.loc[~d20['summary_cust_id'].isin(red_donors)]"
   ]
  },
  {
   "cell_type": "markdown",
   "metadata": {},
   "source": [
    "#### Filter out yellow funds (not customers)"
   ]
  },
  {
   "cell_type": "code",
   "execution_count": 21,
   "metadata": {},
   "outputs": [],
   "source": [
    "d19 = d19.loc[d19.fund_color_cat != 'Yellow']\n",
    "d20 = d20.loc[d20.fund_color_cat != 'Yellow']"
   ]
  },
  {
   "cell_type": "markdown",
   "metadata": {},
   "source": [
    "#### Aggregate donor totals"
   ]
  },
  {
   "cell_type": "code",
   "execution_count": 22,
   "metadata": {},
   "outputs": [],
   "source": [
    "d19_agg = d19.groupby('customer_no').agg({'gift_plus_pledge': 'sum'}).reset_index()\n",
    "d20_agg = d20.groupby('customer_no').agg({'gift_plus_pledge': 'sum'}).reset_index()"
   ]
  },
  {
   "cell_type": "markdown",
   "metadata": {},
   "source": [
    "#### Filter out >=1000 and < 2500"
   ]
  },
  {
   "cell_type": "code",
   "execution_count": 23,
   "metadata": {},
   "outputs": [],
   "source": [
    "d19_identified = d19_agg.loc[d19_agg['gift_plus_pledge'].map(lambda x: x >= 1000 and x < 2500)].reset_index(drop=True)\n",
    "d20_identified = d20_agg.loc[d20_agg['gift_plus_pledge'].map(lambda x: x >= 1000 and x < 2500)].reset_index(drop=True)"
   ]
  },
  {
   "cell_type": "code",
   "execution_count": 24,
   "metadata": {},
   "outputs": [],
   "source": [
    "d19_identified.loc[d19_identified['customer_no'].isin(thu_sat_clx_subs)].reset_index(drop=True).to_excel('d19.xlsx')"
   ]
  },
  {
   "cell_type": "code",
   "execution_count": 25,
   "metadata": {},
   "outputs": [],
   "source": [
    "d20_identified.loc[d20_identified['customer_no'].isin(thu_sat_clx_subs)].reset_index(drop=True).to_excel('d20.xlsx')"
   ]
  },
  {
   "cell_type": "code",
   "execution_count": null,
   "metadata": {},
   "outputs": [],
   "source": []
  }
 ],
 "metadata": {
  "kernelspec": {
   "display_name": "Python 3",
   "language": "python",
   "name": "python3"
  },
  "language_info": {
   "codemirror_mode": {
    "name": "ipython",
    "version": 3
   },
   "file_extension": ".py",
   "mimetype": "text/x-python",
   "name": "python",
   "nbconvert_exporter": "python",
   "pygments_lexer": "ipython3",
   "version": "3.7.3"
  }
 },
 "nbformat": 4,
 "nbformat_minor": 2
}
