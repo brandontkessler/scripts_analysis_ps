{
 "cells": [
  {
   "cell_type": "code",
   "execution_count": 1,
   "metadata": {},
   "outputs": [
    {
     "ename": "ImportError",
     "evalue": "cannot import name 'Subscriptions' from 'data_transformations_ps.subscriptions.subscriptions' (/mnt/c/Users/bkessler/Desktop/packages/data_transformations_ps/subscriptions/subscriptions.py)",
     "output_type": "error",
     "traceback": [
      "\u001b[0;31m---------------------------------------------------------------------------\u001b[0m",
      "\u001b[0;31mImportError\u001b[0m                               Traceback (most recent call last)",
      "\u001b[0;32m<ipython-input-1-decc2bc55d38>\u001b[0m in \u001b[0;36m<module>\u001b[0;34m\u001b[0m\n\u001b[1;32m      1\u001b[0m \u001b[0;32mimport\u001b[0m \u001b[0mpandas\u001b[0m \u001b[0;32mas\u001b[0m \u001b[0mpd\u001b[0m\u001b[0;34m\u001b[0m\u001b[0;34m\u001b[0m\u001b[0m\n\u001b[1;32m      2\u001b[0m \u001b[0;34m\u001b[0m\u001b[0m\n\u001b[0;32m----> 3\u001b[0;31m \u001b[0;32mfrom\u001b[0m \u001b[0mdata_transformations_ps\u001b[0m \u001b[0;32mimport\u001b[0m \u001b[0mTickets\u001b[0m\u001b[0;34m\u001b[0m\u001b[0;34m\u001b[0m\u001b[0m\n\u001b[0m",
      "\u001b[0;32m/mnt/c/Users/bkessler/Desktop/packages/data_transformations_ps/__init__.py\u001b[0m in \u001b[0;36m<module>\u001b[0;34m\u001b[0m\n\u001b[1;32m      1\u001b[0m \u001b[0;32mfrom\u001b[0m \u001b[0;34m.\u001b[0m\u001b[0mdonors\u001b[0m \u001b[0;32mimport\u001b[0m \u001b[0mDonors\u001b[0m\u001b[0;34m\u001b[0m\u001b[0;34m\u001b[0m\u001b[0m\n\u001b[1;32m      2\u001b[0m \u001b[0;32mfrom\u001b[0m \u001b[0;34m.\u001b[0m\u001b[0mtickets\u001b[0m \u001b[0;32mimport\u001b[0m \u001b[0mTickets\u001b[0m\u001b[0;34m\u001b[0m\u001b[0;34m\u001b[0m\u001b[0m\n\u001b[0;32m----> 3\u001b[0;31m \u001b[0;32mfrom\u001b[0m \u001b[0;34m.\u001b[0m\u001b[0msubscriptions\u001b[0m \u001b[0;32mimport\u001b[0m \u001b[0mSubscriptions\u001b[0m\u001b[0;34m\u001b[0m\u001b[0;34m\u001b[0m\u001b[0m\n\u001b[0m",
      "\u001b[0;32m/mnt/c/Users/bkessler/Desktop/packages/data_transformations_ps/subscriptions/__init__.py\u001b[0m in \u001b[0;36m<module>\u001b[0;34m\u001b[0m\n\u001b[0;32m----> 1\u001b[0;31m \u001b[0;32mfrom\u001b[0m \u001b[0;34m.\u001b[0m\u001b[0msubscriptions\u001b[0m \u001b[0;32mimport\u001b[0m \u001b[0mSubscriptions\u001b[0m\u001b[0;34m\u001b[0m\u001b[0;34m\u001b[0m\u001b[0m\n\u001b[0m",
      "\u001b[0;31mImportError\u001b[0m: cannot import name 'Subscriptions' from 'data_transformations_ps.subscriptions.subscriptions' (/mnt/c/Users/bkessler/Desktop/packages/data_transformations_ps/subscriptions/subscriptions.py)"
     ]
    }
   ],
   "source": [
    "import pandas as pd\n",
    "\n",
    "from data_transformations_ps import Tickets"
   ]
  },
  {
   "cell_type": "code",
   "execution_count": 2,
   "metadata": {},
   "outputs": [],
   "source": [
    "ticketing = Tickets(fys=[2019])"
   ]
  },
  {
   "cell_type": "code",
   "execution_count": 3,
   "metadata": {},
   "outputs": [
    {
     "data": {
      "text/plain": [
       "Tickets(fys='[2019]')"
      ]
     },
     "execution_count": 3,
     "metadata": {},
     "output_type": "execute_result"
    }
   ],
   "source": [
    "ticketing.convert_dates().drop_unsold().add_dow().filter_series(['Classics'])\\\n",
    "         .transform_price_type_group().add_concert_numbers_clx()"
   ]
  },
  {
   "cell_type": "code",
   "execution_count": 46,
   "metadata": {},
   "outputs": [],
   "source": [
    "df = ticketing.data.groupby(['concert_number', 'dow', 'price_type_group']).agg({\n",
    "    'paid_amt': ['sum', 'count']\n",
    "}).unstack('price_type_group').reset_index()"
   ]
  },
  {
   "cell_type": "code",
   "execution_count": 56,
   "metadata": {},
   "outputs": [],
   "source": [
    "df[('paid_amt', 'sum', 'Total')] = df[('paid_amt', 'sum', 'Single')] + df[('paid_amt', 'sum', 'Subscription')]\n",
    "df[('paid_amt', 'count', 'Total')] = df[('paid_amt', 'count', 'Single')] + df[('paid_amt', 'count', 'Subscription')]\n",
    "df['capacity_sold'] = df[('paid_amt', 'count', 'Total')] / 1750"
   ]
  },
  {
   "cell_type": "code",
   "execution_count": 58,
   "metadata": {},
   "outputs": [],
   "source": [
    "df.columns = ['concert_number', 'dow', 'single_rev', 'sub_rev', 'single_units', 'sub_units', 'total_rev', 'total_units', 'capacity_sold']"
   ]
  },
  {
   "cell_type": "code",
   "execution_count": 93,
   "metadata": {},
   "outputs": [],
   "source": [
    "df = df.melt(id_vars=['concert_number', 'dow'], \n",
    "               value_vars=['single_rev', 'sub_rev', 'single_units', 'sub_units', \n",
    "                           'total_rev', 'total_units', 'capacity_sold'])"
   ]
  },
  {
   "cell_type": "code",
   "execution_count": 96,
   "metadata": {},
   "outputs": [],
   "source": [
    "df = df.groupby(['concert_number', 'variable', 'dow']).sum().unstack('dow').reset_index()"
   ]
  },
  {
   "cell_type": "code",
   "execution_count": 97,
   "metadata": {},
   "outputs": [],
   "source": [
    "sort_mapper = {\n",
    "    'single_rev': 1,\n",
    "    'single_units': 2,\n",
    "    'sub_rev': 3,\n",
    "    'sub_units': 4,\n",
    "    'total_rev': 5,\n",
    "    'total_units': 6,\n",
    "    'capacity_sold': 7\n",
    "}"
   ]
  },
  {
   "cell_type": "code",
   "execution_count": 99,
   "metadata": {},
   "outputs": [],
   "source": [
    "df['sorter'] = df['variable'].map(sort_mapper)"
   ]
  },
  {
   "cell_type": "code",
   "execution_count": 102,
   "metadata": {},
   "outputs": [],
   "source": [
    "df = df.sort_values(by=['concert_number', 'sorter']).reset_index(drop=True)"
   ]
  },
  {
   "cell_type": "code",
   "execution_count": 103,
   "metadata": {},
   "outputs": [
    {
     "data": {
      "text/html": [
       "<div>\n",
       "<style scoped>\n",
       "    .dataframe tbody tr th:only-of-type {\n",
       "        vertical-align: middle;\n",
       "    }\n",
       "\n",
       "    .dataframe tbody tr th {\n",
       "        vertical-align: top;\n",
       "    }\n",
       "\n",
       "    .dataframe thead tr th {\n",
       "        text-align: left;\n",
       "    }\n",
       "</style>\n",
       "<table border=\"1\" class=\"dataframe\">\n",
       "  <thead>\n",
       "    <tr>\n",
       "      <th></th>\n",
       "      <th>concert_number</th>\n",
       "      <th>variable</th>\n",
       "      <th colspan=\"4\" halign=\"left\">value</th>\n",
       "      <th>sorter</th>\n",
       "    </tr>\n",
       "    <tr>\n",
       "      <th>dow</th>\n",
       "      <th></th>\n",
       "      <th></th>\n",
       "      <th>Friday</th>\n",
       "      <th>Saturday</th>\n",
       "      <th>Thursday</th>\n",
       "      <th>Tuesday</th>\n",
       "      <th></th>\n",
       "    </tr>\n",
       "  </thead>\n",
       "  <tbody>\n",
       "    <tr>\n",
       "      <td>0</td>\n",
       "      <td>1</td>\n",
       "      <td>single_rev</td>\n",
       "      <td>22384.250000</td>\n",
       "      <td>34834.500000</td>\n",
       "      <td>31518.500000</td>\n",
       "      <td>NaN</td>\n",
       "      <td>1</td>\n",
       "    </tr>\n",
       "    <tr>\n",
       "      <td>1</td>\n",
       "      <td>1</td>\n",
       "      <td>single_units</td>\n",
       "      <td>377.000000</td>\n",
       "      <td>473.000000</td>\n",
       "      <td>464.000000</td>\n",
       "      <td>NaN</td>\n",
       "      <td>2</td>\n",
       "    </tr>\n",
       "    <tr>\n",
       "      <td>2</td>\n",
       "      <td>1</td>\n",
       "      <td>sub_rev</td>\n",
       "      <td>43124.000000</td>\n",
       "      <td>49826.000000</td>\n",
       "      <td>53044.500000</td>\n",
       "      <td>NaN</td>\n",
       "      <td>3</td>\n",
       "    </tr>\n",
       "    <tr>\n",
       "      <td>3</td>\n",
       "      <td>1</td>\n",
       "      <td>sub_units</td>\n",
       "      <td>685.000000</td>\n",
       "      <td>792.000000</td>\n",
       "      <td>762.000000</td>\n",
       "      <td>NaN</td>\n",
       "      <td>4</td>\n",
       "    </tr>\n",
       "    <tr>\n",
       "      <td>4</td>\n",
       "      <td>1</td>\n",
       "      <td>total_rev</td>\n",
       "      <td>65508.250000</td>\n",
       "      <td>84660.500000</td>\n",
       "      <td>84563.000000</td>\n",
       "      <td>NaN</td>\n",
       "      <td>5</td>\n",
       "    </tr>\n",
       "    <tr>\n",
       "      <td>...</td>\n",
       "      <td>...</td>\n",
       "      <td>...</td>\n",
       "      <td>...</td>\n",
       "      <td>...</td>\n",
       "      <td>...</td>\n",
       "      <td>...</td>\n",
       "      <td>...</td>\n",
       "    </tr>\n",
       "    <tr>\n",
       "      <td>79</td>\n",
       "      <td>12</td>\n",
       "      <td>sub_rev</td>\n",
       "      <td>43025.200000</td>\n",
       "      <td>47022.350000</td>\n",
       "      <td>41833.300000</td>\n",
       "      <td>NaN</td>\n",
       "      <td>3</td>\n",
       "    </tr>\n",
       "    <tr>\n",
       "      <td>80</td>\n",
       "      <td>12</td>\n",
       "      <td>sub_units</td>\n",
       "      <td>627.000000</td>\n",
       "      <td>706.000000</td>\n",
       "      <td>596.000000</td>\n",
       "      <td>NaN</td>\n",
       "      <td>4</td>\n",
       "    </tr>\n",
       "    <tr>\n",
       "      <td>81</td>\n",
       "      <td>12</td>\n",
       "      <td>total_rev</td>\n",
       "      <td>53838.950000</td>\n",
       "      <td>66080.850000</td>\n",
       "      <td>51825.050000</td>\n",
       "      <td>NaN</td>\n",
       "      <td>5</td>\n",
       "    </tr>\n",
       "    <tr>\n",
       "      <td>82</td>\n",
       "      <td>12</td>\n",
       "      <td>total_units</td>\n",
       "      <td>873.000000</td>\n",
       "      <td>1059.000000</td>\n",
       "      <td>802.000000</td>\n",
       "      <td>NaN</td>\n",
       "      <td>6</td>\n",
       "    </tr>\n",
       "    <tr>\n",
       "      <td>83</td>\n",
       "      <td>12</td>\n",
       "      <td>capacity_sold</td>\n",
       "      <td>0.498857</td>\n",
       "      <td>0.605143</td>\n",
       "      <td>0.458286</td>\n",
       "      <td>NaN</td>\n",
       "      <td>7</td>\n",
       "    </tr>\n",
       "  </tbody>\n",
       "</table>\n",
       "<p>84 rows × 7 columns</p>\n",
       "</div>"
      ],
      "text/plain": [
       "    concert_number       variable         value                              \\\n",
       "dow                                      Friday      Saturday      Thursday   \n",
       "0                1     single_rev  22384.250000  34834.500000  31518.500000   \n",
       "1                1   single_units    377.000000    473.000000    464.000000   \n",
       "2                1        sub_rev  43124.000000  49826.000000  53044.500000   \n",
       "3                1      sub_units    685.000000    792.000000    762.000000   \n",
       "4                1      total_rev  65508.250000  84660.500000  84563.000000   \n",
       "..             ...            ...           ...           ...           ...   \n",
       "79              12        sub_rev  43025.200000  47022.350000  41833.300000   \n",
       "80              12      sub_units    627.000000    706.000000    596.000000   \n",
       "81              12      total_rev  53838.950000  66080.850000  51825.050000   \n",
       "82              12    total_units    873.000000   1059.000000    802.000000   \n",
       "83              12  capacity_sold      0.498857      0.605143      0.458286   \n",
       "\n",
       "            sorter  \n",
       "dow Tuesday         \n",
       "0       NaN      1  \n",
       "1       NaN      2  \n",
       "2       NaN      3  \n",
       "3       NaN      4  \n",
       "4       NaN      5  \n",
       "..      ...    ...  \n",
       "79      NaN      3  \n",
       "80      NaN      4  \n",
       "81      NaN      5  \n",
       "82      NaN      6  \n",
       "83      NaN      7  \n",
       "\n",
       "[84 rows x 7 columns]"
      ]
     },
     "execution_count": 103,
     "metadata": {},
     "output_type": "execute_result"
    }
   ],
   "source": [
    "df"
   ]
  },
  {
   "cell_type": "code",
   "execution_count": 104,
   "metadata": {},
   "outputs": [],
   "source": [
    "df.to_excel('dow_2019_clx.xlsx')"
   ]
  },
  {
   "cell_type": "code",
   "execution_count": null,
   "metadata": {},
   "outputs": [],
   "source": []
  }
 ],
 "metadata": {
  "kernelspec": {
   "display_name": "Python 3",
   "language": "python",
   "name": "python3"
  },
  "language_info": {
   "codemirror_mode": {
    "name": "ipython",
    "version": 3
   },
   "file_extension": ".py",
   "mimetype": "text/x-python",
   "name": "python",
   "nbconvert_exporter": "python",
   "pygments_lexer": "ipython3",
   "version": "3.7.3"
  }
 },
 "nbformat": 4,
 "nbformat_minor": 2
}
