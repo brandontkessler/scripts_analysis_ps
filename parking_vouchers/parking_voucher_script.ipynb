{
 "cells": [
  {
   "cell_type": "code",
   "execution_count": 1,
   "metadata": {},
   "outputs": [
    {
     "ename": "ImportError",
     "evalue": "cannot import name 'Subscriptions' from 'data_transformations_ps.subscriptions.subscriptions' (/mnt/c/Users/bkessler/Desktop/packages/data_transformations_ps/subscriptions/subscriptions.py)",
     "output_type": "error",
     "traceback": [
      "\u001b[0;31m---------------------------------------------------------------------------\u001b[0m",
      "\u001b[0;31mImportError\u001b[0m                               Traceback (most recent call last)",
      "\u001b[0;32m<ipython-input-1-8a75d8ade47e>\u001b[0m in \u001b[0;36m<module>\u001b[0;34m\u001b[0m\n\u001b[1;32m      1\u001b[0m \u001b[0;32mimport\u001b[0m \u001b[0mpandas\u001b[0m \u001b[0;32mas\u001b[0m \u001b[0mpd\u001b[0m\u001b[0;34m\u001b[0m\u001b[0;34m\u001b[0m\u001b[0m\n\u001b[1;32m      2\u001b[0m \u001b[0;34m\u001b[0m\u001b[0m\n\u001b[0;32m----> 3\u001b[0;31m \u001b[0;32mfrom\u001b[0m \u001b[0mdata_transformations_ps\u001b[0m \u001b[0;32mimport\u001b[0m \u001b[0mDonors\u001b[0m\u001b[0;34m,\u001b[0m \u001b[0mTickets\u001b[0m\u001b[0;34m\u001b[0m\u001b[0;34m\u001b[0m\u001b[0m\n\u001b[0m",
      "\u001b[0;32m/mnt/c/Users/bkessler/Desktop/packages/data_transformations_ps/__init__.py\u001b[0m in \u001b[0;36m<module>\u001b[0;34m\u001b[0m\n\u001b[1;32m      1\u001b[0m \u001b[0;32mfrom\u001b[0m \u001b[0;34m.\u001b[0m\u001b[0mdonors\u001b[0m \u001b[0;32mimport\u001b[0m \u001b[0mDonors\u001b[0m\u001b[0;34m\u001b[0m\u001b[0;34m\u001b[0m\u001b[0m\n\u001b[1;32m      2\u001b[0m \u001b[0;32mfrom\u001b[0m \u001b[0;34m.\u001b[0m\u001b[0mtickets\u001b[0m \u001b[0;32mimport\u001b[0m \u001b[0mTickets\u001b[0m\u001b[0;34m\u001b[0m\u001b[0;34m\u001b[0m\u001b[0m\n\u001b[0;32m----> 3\u001b[0;31m \u001b[0;32mfrom\u001b[0m \u001b[0;34m.\u001b[0m\u001b[0msubscriptions\u001b[0m \u001b[0;32mimport\u001b[0m \u001b[0mSubscriptions\u001b[0m\u001b[0;34m\u001b[0m\u001b[0;34m\u001b[0m\u001b[0m\n\u001b[0m",
      "\u001b[0;32m/mnt/c/Users/bkessler/Desktop/packages/data_transformations_ps/subscriptions/__init__.py\u001b[0m in \u001b[0;36m<module>\u001b[0;34m\u001b[0m\n\u001b[0;32m----> 1\u001b[0;31m \u001b[0;32mfrom\u001b[0m \u001b[0;34m.\u001b[0m\u001b[0msubscriptions\u001b[0m \u001b[0;32mimport\u001b[0m \u001b[0mSubscriptions\u001b[0m\u001b[0;34m\u001b[0m\u001b[0;34m\u001b[0m\u001b[0m\n\u001b[0m",
      "\u001b[0;31mImportError\u001b[0m: cannot import name 'Subscriptions' from 'data_transformations_ps.subscriptions.subscriptions' (/mnt/c/Users/bkessler/Desktop/packages/data_transformations_ps/subscriptions/subscriptions.py)"
     ]
    }
   ],
   "source": [
    "import pandas as pd\n",
    "\n",
    "from data_transformations_ps import Donors, Tickets"
   ]
  },
  {
   "cell_type": "code",
   "execution_count": 9,
   "metadata": {},
   "outputs": [],
   "source": [
    "donor_cls = Donors()"
   ]
  },
  {
   "cell_type": "code",
   "execution_count": 10,
   "metadata": {},
   "outputs": [
    {
     "data": {
      "text/plain": [
       "<data_transformations_ps.donors.donors.Donors at 0x7f31d177ec50>"
      ]
     },
     "execution_count": 10,
     "metadata": {},
     "output_type": "execute_result"
    }
   ],
   "source": [
    "donor_cls.parse_campaign_fy().filter_fys([19, 20])"
   ]
  },
  {
   "cell_type": "code",
   "execution_count": 11,
   "metadata": {},
   "outputs": [],
   "source": [
    "# Lists to exclude from data\n",
    "box_fy20 = donor_cls.box_circle_list(fy=20)  # summary_cust_id\n",
    "parking_addon = list(pd.read_csv('../../data/other/parking_addon_customer_list_9-5-19.csv')['customer_no']) # customer_no"
   ]
  },
  {
   "cell_type": "code",
   "execution_count": 12,
   "metadata": {},
   "outputs": [
    {
     "data": {
      "text/plain": [
       "<data_transformations_ps.donors.donors.Donors at 0x7f31d177ec50>"
      ]
     },
     "execution_count": 12,
     "metadata": {},
     "output_type": "execute_result"
    }
   ],
   "source": [
    "donor_cls.filter_by_list(filter_list=box_fy20, column_name='summary_cust_id', keep_in_list=False)\\\n",
    "         .filter_by_list(filter_list=parking_addon, column_name='customer_no', keep_in_list=False)"
   ]
  },
  {
   "cell_type": "code",
   "execution_count": 13,
   "metadata": {},
   "outputs": [
    {
     "data": {
      "text/plain": [
       "<data_transformations_ps.donors.donors.Donors at 0x7f31d177ec50>"
      ]
     },
     "execution_count": 13,
     "metadata": {},
     "output_type": "execute_result"
    }
   ],
   "source": [
    "donor_cls.agg_by_amount_per_yr(threshold=10000, greater_than_thresh=True, equal_to_thresh=True, cont_dt='max')"
   ]
  },
  {
   "cell_type": "code",
   "execution_count": 18,
   "metadata": {},
   "outputs": [],
   "source": [
    "fin = donor_cls.data.pivot(index='summary_cust_id', columns='fy', values=['gift_plus_pledge', 'cont_dt']).reset_index()"
   ]
  },
  {
   "cell_type": "code",
   "execution_count": 19,
   "metadata": {},
   "outputs": [],
   "source": [
    "fin.to_excel('parking_voucher.xlsx')"
   ]
  },
  {
   "cell_type": "code",
   "execution_count": null,
   "metadata": {},
   "outputs": [],
   "source": []
  }
 ],
 "metadata": {
  "kernelspec": {
   "display_name": "Python 3",
   "language": "python",
   "name": "python3"
  },
  "language_info": {
   "codemirror_mode": {
    "name": "ipython",
    "version": 3
   },
   "file_extension": ".py",
   "mimetype": "text/x-python",
   "name": "python",
   "nbconvert_exporter": "python",
   "pygments_lexer": "ipython3",
   "version": "3.7.3"
  }
 },
 "nbformat": 4,
 "nbformat_minor": 2
}
