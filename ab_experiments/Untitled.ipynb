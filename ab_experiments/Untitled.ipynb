{
 "cells": [
  {
   "cell_type": "markdown",
   "metadata": {},
   "source": [
    "### Imports"
   ]
  },
  {
   "cell_type": "code",
   "execution_count": 7,
   "metadata": {},
   "outputs": [],
   "source": [
    "import os\n",
    "import pandas as pd\n",
    "import numpy as np\n",
    "from numpy.random import beta\n",
    "import matplotlib.pyplot as plt\n",
    "import seaborn as sns\n",
    "from scipy import stats\n",
    "\n",
    "%matplotlib inline"
   ]
  },
  {
   "cell_type": "code",
   "execution_count": 16,
   "metadata": {},
   "outputs": [
    {
     "name": "stdout",
     "output_type": "stream",
     "text": [
      "cache is now empty\n"
     ]
    }
   ],
   "source": [
    "from transform_ps.etl.data_type import DataFactory\n",
    "from transform_ps.etl.util import clear_cwd_cache\n",
    "clear_cwd_cache()"
   ]
  },
  {
   "cell_type": "code",
   "execution_count": 17,
   "metadata": {},
   "outputs": [],
   "source": [
    "factory = DataFactory()"
   ]
  },
  {
   "cell_type": "code",
   "execution_count": 18,
   "metadata": {},
   "outputs": [],
   "source": [
    "tix = factory.create_data_type(\"ticket\")"
   ]
  },
  {
   "cell_type": "code",
   "execution_count": 19,
   "metadata": {},
   "outputs": [
    {
     "name": "stdout",
     "output_type": "stream",
     "text": [
      "not found in cache\n",
      "saved working to cache\n",
      "Finished prepare_data in 4.5705 secs\n"
     ]
    }
   ],
   "source": [
    "tix.get_data(fys=[20])"
   ]
  },
  {
   "cell_type": "markdown",
   "metadata": {},
   "source": [
    "### Inputs"
   ]
  },
  {
   "cell_type": "code",
   "execution_count": 88,
   "metadata": {},
   "outputs": [],
   "source": [
    "simulations=1000000\n",
    "prior_a=1.0\n",
    "prior_b=1.0\n",
    "prior_c=1.0\n",
    "final = {\n",
    "    'email': {},\n",
    "    'telemarketing': {},\n",
    "    'thank_you': {},\n",
    "}"
   ]
  },
  {
   "cell_type": "markdown",
   "metadata": {},
   "source": [
    "### Get Data"
   ]
  },
  {
   "cell_type": "code",
   "execution_count": 10,
   "metadata": {},
   "outputs": [],
   "source": [
    "email = pd.read_csv(\"../../data/ab_experiments/NtF/email_only.csv\")\n",
    "telemarketing = pd.read_csv(\"../../data/ab_experiments/NtF/telemarketing.csv\")\n",
    "thank_you = pd.read_csv(\"../../data/ab_experiments/NtF/thank_you_call.csv\")"
   ]
  },
  {
   "cell_type": "markdown",
   "metadata": {},
   "source": [
    "### Prep"
   ]
  },
  {
   "cell_type": "code",
   "execution_count": 28,
   "metadata": {},
   "outputs": [],
   "source": [
    "num_perfs = tix.working.groupby('summary_cust_id').agg({'perf_dt': 'nunique'}).reset_index()"
   ]
  },
  {
   "cell_type": "code",
   "execution_count": 56,
   "metadata": {},
   "outputs": [],
   "source": [
    "sub_setup = tix.working.loc[\n",
    "    (tix.working['price_type_group'] == 'Flex') | (tix.working['price_type_group'] == 'Subscription')\n",
    "].reset_index(drop=True)"
   ]
  },
  {
   "cell_type": "code",
   "execution_count": 58,
   "metadata": {},
   "outputs": [],
   "source": [
    "sub_setup['subscriber'] = True"
   ]
  },
  {
   "cell_type": "code",
   "execution_count": 61,
   "metadata": {},
   "outputs": [],
   "source": [
    "subs = sub_setup[['summary_cust_id', 'subscriber']].drop_duplicates().reset_index(drop=True)"
   ]
  },
  {
   "cell_type": "markdown",
   "metadata": {},
   "source": [
    "### Merge Data"
   ]
  },
  {
   "cell_type": "code",
   "execution_count": 71,
   "metadata": {},
   "outputs": [],
   "source": [
    "email_merge = email.merge(num_perfs, left_on='customer_no', right_on='summary_cust_id', how='left').merge(subs, on='summary_cust_id', how='left')"
   ]
  },
  {
   "cell_type": "code",
   "execution_count": 72,
   "metadata": {},
   "outputs": [],
   "source": [
    "telemarketing_merge = telemarketing.merge(num_perfs, left_on='customer_no', right_on='summary_cust_id', how='left').merge(subs, on='summary_cust_id', how='left')"
   ]
  },
  {
   "cell_type": "code",
   "execution_count": 73,
   "metadata": {},
   "outputs": [],
   "source": [
    "thank_you_merge = thank_you.merge(num_perfs, left_on='customer_no', right_on='summary_cust_id', how='left').merge(subs, on='summary_cust_id', how='left')"
   ]
  },
  {
   "cell_type": "markdown",
   "metadata": {},
   "source": [
    "#### Subscribers"
   ]
  },
  {
   "cell_type": "code",
   "execution_count": 89,
   "metadata": {},
   "outputs": [],
   "source": [
    "final['email']['subs'] = len(email_merge.loc[email_merge['subscriber'] == True])"
   ]
  },
  {
   "cell_type": "code",
   "execution_count": 91,
   "metadata": {},
   "outputs": [],
   "source": [
    "final['telemarketing']['subs'] = len(telemarketing_merge.loc[telemarketing_merge['subscriber'] == True])"
   ]
  },
  {
   "cell_type": "code",
   "execution_count": 90,
   "metadata": {},
   "outputs": [],
   "source": [
    "final['thank_you']['subs'] = len(thank_you_merge.loc[thank_you_merge['subscriber'] == True])"
   ]
  },
  {
   "cell_type": "markdown",
   "metadata": {},
   "source": [
    "#### Posteriors"
   ]
  },
  {
   "cell_type": "code",
   "execution_count": 96,
   "metadata": {},
   "outputs": [],
   "source": [
    "email_success = len(email_merge.loc[email_merge['perf_dt'] > 1])\n",
    "email_failure = len(email_merge.loc[email_merge['perf_dt'] == 1])"
   ]
  },
  {
   "cell_type": "code",
   "execution_count": 98,
   "metadata": {},
   "outputs": [],
   "source": [
    "telemarketing_success = len(telemarketing_merge.loc[telemarketing_merge['perf_dt'] > 1])\n",
    "telemarketing_failure = len(telemarketing_merge.loc[telemarketing_merge['perf_dt'] == 1])"
   ]
  },
  {
   "cell_type": "code",
   "execution_count": 97,
   "metadata": {},
   "outputs": [],
   "source": [
    "thank_you_success = len(thank_you_merge.loc[thank_you_merge['perf_dt'] > 1])\n",
    "thank_you_failure = len(thank_you_merge.loc[thank_you_merge['perf_dt'] == 1])"
   ]
  },
  {
   "cell_type": "code",
   "execution_count": 107,
   "metadata": {},
   "outputs": [],
   "source": [
    "posterior_email = beta(email_success + 1, email_failure + 1, simulations)\n",
    "posterior_telemarketing = beta(telemarketing_success + 1, telemarketing_failure + 1, simulations)\n",
    "posterior_thank_you = beta(thank_you_success + 1, thank_you_failure + 1, simulations)"
   ]
  },
  {
   "cell_type": "code",
   "execution_count": 108,
   "metadata": {},
   "outputs": [],
   "source": [
    "posteriors = {\n",
    "    'email': posterior_email,\n",
    "    'telemarketing': posterior_telemarketing,\n",
    "    'thank_you': posterior_thank_you\n",
    "}"
   ]
  },
  {
   "cell_type": "code",
   "execution_count": 111,
   "metadata": {},
   "outputs": [
    {
     "name": "stdout",
     "output_type": "stream",
     "text": [
      "18 34 18\n"
     ]
    }
   ],
   "source": [
    "print(email_success, telemarketing_success, thank_you_success)"
   ]
  },
  {
   "cell_type": "markdown",
   "metadata": {},
   "source": [
    "### Finished"
   ]
  },
  {
   "cell_type": "code",
   "execution_count": 92,
   "metadata": {},
   "outputs": [
    {
     "data": {
      "text/plain": [
       "{'email': {'subs': 4}, 'telemarketing': {'subs': 15}, 'thank_you': {'subs': 3}}"
      ]
     },
     "execution_count": 92,
     "metadata": {},
     "output_type": "execute_result"
    }
   ],
   "source": [
    "final"
   ]
  },
  {
   "cell_type": "code",
   "execution_count": 110,
   "metadata": {},
   "outputs": [
    {
     "data": {
      "image/png": "[encoded data removed]",
      "text/plain": [
       "<Figure size 1080x360 with 1 Axes>"
      ]
     },
     "metadata": {
      "needs_background": "light"
     },
     "output_type": "display_data"
    }
   ],
   "source": [
    "plt.figure(figsize=[15, 5])\n",
    "\n",
    "colors = ['blue', 'red', 'green', 'gold', 'gray', 'orange', 'orchid', 'teal', 'snow']\n",
    "\n",
    "for key, val in posteriors.items():\n",
    "    try:\n",
    "        color = colors.pop(0)\n",
    "    except:\n",
    "        color = 'SteelBlue'     # set color if run out of colors in list provided\n",
    "\n",
    "    sns.distplot(val, hist=False, kde=True, color=color,\n",
    "                 kde_kws={'shade': True, 'linewidth': 1},\n",
    "                 label=key)\n",
    "\n",
    "plt.legend(prop={'size': 15}, title='Experiments')\n",
    "plt.title('test')\n",
    "plt.xlabel('conversion rate')\n",
    "plt.ylabel('samples')\n",
    "plt.show()"
   ]
  },
  {
   "cell_type": "code",
   "execution_count": null,
   "metadata": {},
   "outputs": [],
   "source": []
  }
 ],
 "metadata": {
  "kernelspec": {
   "display_name": "Python 3",
   "language": "python",
   "name": "python3"
  },
  "language_info": {
   "codemirror_mode": {
    "name": "ipython",
    "version": 3
   },
   "file_extension": ".py",
   "mimetype": "text/x-python",
   "name": "python",
   "nbconvert_exporter": "python",
   "pygments_lexer": "ipython3",
   "version": "3.7.3"
  }
 },
 "nbformat": 4,
 "nbformat_minor": 2
}
