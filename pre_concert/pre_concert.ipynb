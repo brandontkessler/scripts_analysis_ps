{
 "cells": [
  {
   "cell_type": "code",
   "execution_count": 1,
   "metadata": {},
   "outputs": [],
   "source": [
    "import pandas as pd\n",
    "import xlsxwriter\n",
    "from transform_ps.etl.data_type import DataFactory\n",
    "from transform_ps.etl.util import clear_cwd_cache"
   ]
  },
  {
   "cell_type": "markdown",
   "metadata": {},
   "source": [
    "### Inputs"
   ]
  },
  {
   "cell_type": "code",
   "execution_count": 2,
   "metadata": {},
   "outputs": [],
   "source": [
    "TEST_DATA_PATH = '../../../packages/transform_ps/tests/test_data/'\n",
    "FY = 20\n",
    "CONCERT_DTS = ['11-1-2019', '11-2-2019']\n",
    "SERIES_NAME = 'Sondheim and Lloyd Webber'"
   ]
  },
  {
   "cell_type": "markdown",
   "metadata": {},
   "source": [
    "### Setup"
   ]
  },
  {
   "cell_type": "code",
   "execution_count": 3,
   "metadata": {},
   "outputs": [],
   "source": [
    "factory = DataFactory()"
   ]
  },
  {
   "cell_type": "code",
   "execution_count": 4,
   "metadata": {},
   "outputs": [],
   "source": [
    "tix = factory.create_data_type('ticket')\n",
    "donor = factory.create_data_type('donor')"
   ]
  },
  {
   "cell_type": "markdown",
   "metadata": {},
   "source": [
    "### Get Data"
   ]
  },
  {
   "cell_type": "code",
   "execution_count": 5,
   "metadata": {},
   "outputs": [
    {
     "name": "stdout",
     "output_type": "stream",
     "text": [
      "reading from cache\n",
      "Finished prepare_data in 0.3602 secs\n",
      "reading from cache\n",
      "Finished prepare_data in 0.6727 secs\n"
     ]
    }
   ],
   "source": [
    "tix.get_data(fys=FY)\n",
    "donor.get_data(fys='13')"
   ]
  },
  {
   "cell_type": "markdown",
   "metadata": {},
   "source": [
    "### Prep Data for Segmentation"
   ]
  },
  {
   "cell_type": "code",
   "execution_count": 6,
   "metadata": {},
   "outputs": [],
   "source": [
    "seg = tix.type.pre_concert(tix.working, donor.working, FY, CONCERT_DTS)"
   ]
  },
  {
   "cell_type": "markdown",
   "metadata": {},
   "source": [
    "### Execute"
   ]
  },
  {
   "cell_type": "code",
   "execution_count": 7,
   "metadata": {},
   "outputs": [],
   "source": [
    "generator = seg.execute()"
   ]
  },
  {
   "cell_type": "code",
   "execution_count": 8,
   "metadata": {},
   "outputs": [],
   "source": [
    "for concert, seat_finder, date in generator:\n",
    "    writer = pd.ExcelWriter('final/' + SERIES_NAME + '_' + date + '.xlsx', \n",
    "                            engine='xlsxwriter')\n",
    "\n",
    "    concert.to_excel(writer, sheet_name = 'concert_info', index=False)\n",
    "    seat_finder.to_excel(writer, sheet_name = 'seat_finder', index = False)\n",
    "\n",
    "    writer.save()"
   ]
  }
 ],
 "metadata": {
  "kernelspec": {
   "display_name": "Python 3",
   "language": "python",
   "name": "python3"
  },
  "language_info": {
   "codemirror_mode": {
    "name": "ipython",
    "version": 3
   },
   "file_extension": ".py",
   "mimetype": "text/x-python",
   "name": "python",
   "nbconvert_exporter": "python",
   "pygments_lexer": "ipython3",
   "version": "3.7.3"
  }
 },
 "nbformat": 4,
 "nbformat_minor": 2
}
