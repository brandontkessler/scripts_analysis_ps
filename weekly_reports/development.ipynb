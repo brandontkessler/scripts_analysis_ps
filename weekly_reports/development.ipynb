{
 "cells": [
  {
   "cell_type": "markdown",
   "metadata": {},
   "source": [
    "### Imports"
   ]
  },
  {
   "cell_type": "code",
   "execution_count": 87,
   "metadata": {},
   "outputs": [],
   "source": [
    "import pandas as pd\n",
    "from datetime import datetime, timedelta\n",
    "\n",
    "from transform_ps.transform_ps.donors import Donors"
   ]
  },
  {
   "cell_type": "markdown",
   "metadata": {},
   "source": [
    "### Get Data"
   ]
  },
  {
   "cell_type": "code",
   "execution_count": 88,
   "metadata": {},
   "outputs": [],
   "source": [
    "d = Donors(file_yr='13')\n",
    "d.filter_fys(fys=[20], inplace=True)"
   ]
  },
  {
   "cell_type": "markdown",
   "metadata": {},
   "source": [
    "### Dates"
   ]
  },
  {
   "cell_type": "code",
   "execution_count": 89,
   "metadata": {},
   "outputs": [],
   "source": [
    "quarter_start = '2019-10-01'\n",
    "quarter_end = '2019-12-31'"
   ]
  },
  {
   "cell_type": "code",
   "execution_count": 90,
   "metadata": {},
   "outputs": [],
   "source": [
    "today_date = datetime.today().strftime(\"%b-%d-%Y\")\n",
    "last_week_date = datetime.today() - timedelta(days=7)"
   ]
  },
  {
   "cell_type": "markdown",
   "metadata": {},
   "source": [
    "### Interim dataframes"
   ]
  },
  {
   "cell_type": "markdown",
   "metadata": {},
   "source": [
    "#### Prior Week"
   ]
  },
  {
   "cell_type": "code",
   "execution_count": 91,
   "metadata": {},
   "outputs": [],
   "source": [
    "prior_week = d.data[d.data['cont_dt'] <= last_week_date]\n",
    "prior_week_campaign = prior_week.groupby('campaign').agg({'gift_plus_pledge': 'sum'}).reset_index()\n",
    "prior_week_solicitor = prior_week.groupby('ps_sol').agg({'gift_plus_pledge': 'sum'}).reset_index()"
   ]
  },
  {
   "cell_type": "markdown",
   "metadata": {},
   "source": [
    "#### Quarter"
   ]
  },
  {
   "cell_type": "code",
   "execution_count": 92,
   "metadata": {},
   "outputs": [],
   "source": [
    "q_columns = ['campaign', 'quarter_total']\n",
    "\n",
    "quarterly = d.data[d.data['cont_dt'].between(quarter_start, quarter_end)]\n",
    "\n",
    "quarterly_campaign = quarterly.groupby('campaign').agg({'gift_plus_pledge': 'sum'}).reset_index()\n",
    "quarterly_campaign.columns = q_columns\n",
    "\n",
    "quarterly_solicitor = quarterly.groupby('ps_sol').agg({'gift_plus_pledge': 'sum'}).reset_index()\n",
    "quarterly_solicitor.columns = q_columns"
   ]
  },
  {
   "cell_type": "markdown",
   "metadata": {},
   "source": [
    "#### Current Week"
   ]
  },
  {
   "cell_type": "code",
   "execution_count": 93,
   "metadata": {},
   "outputs": [],
   "source": [
    "cw_columns = ['campaign', 'to_date']\n",
    "\n",
    "campaign_current = d.data.groupby('campaign').agg({'gift_plus_pledge': 'sum'}).reset_index()\n",
    "campaign_current.columns = cw_columns\n",
    "\n",
    "solicitor_current = d.data.groupby('ps_sol').agg({'gift_plus_pledge': 'sum'}).reset_index()\n",
    "solicitor_current.columns = cw_columns"
   ]
  },
  {
   "cell_type": "markdown",
   "metadata": {},
   "source": [
    "### Filling out Columns"
   ]
  },
  {
   "cell_type": "markdown",
   "metadata": {},
   "source": [
    "#### Campaign Summary"
   ]
  },
  {
   "cell_type": "code",
   "execution_count": 94,
   "metadata": {},
   "outputs": [],
   "source": [
    "campaign_current['new'] = campaign_current['to_date'] - prior_week_campaign['gift_plus_pledge']\n",
    "campaign_summary = campaign_current.merge(quarterly_campaign, on='campaign', how='left').fillna(0)"
   ]
  },
  {
   "cell_type": "markdown",
   "metadata": {},
   "source": [
    "#### Solicitor Summary"
   ]
  },
  {
   "cell_type": "code",
   "execution_count": 95,
   "metadata": {},
   "outputs": [],
   "source": [
    "solicitor_current['new'] = solicitor_current['to_date'] - prior_week_solicitor['gift_plus_pledge']\n",
    "solicitor_summary = solicitor_current.merge(quarterly_solicitor, on='campaign', how='left').fillna(0)"
   ]
  },
  {
   "cell_type": "markdown",
   "metadata": {},
   "source": [
    "### Format"
   ]
  },
  {
   "cell_type": "code",
   "execution_count": 41,
   "metadata": {},
   "outputs": [],
   "source": [
    "def frmt(amount):\n",
    "    return round(amount)"
   ]
  },
  {
   "cell_type": "code",
   "execution_count": 42,
   "metadata": {},
   "outputs": [],
   "source": [
    "campaign_summary['to_date'] = campaign_summary['to_date'].apply(frmt)\n",
    "campaign_summary['new'] = campaign_summary['new'].apply(frmt)\n",
    "campaign_summary['quarter_total'] = campaign_summary['quarter_total'].apply(frmt)\n",
    "\n",
    "solicitor_summary['to_date'] = solicitor_summary['to_date'].apply(frmt)\n",
    "solicitor_summary['new'] = solicitor_summary['new'].apply(frmt)\n",
    "solicitor_summary['quarter_total'] = solicitor_summary['quarter_total'].apply(frmt)"
   ]
  },
  {
   "cell_type": "markdown",
   "metadata": {},
   "source": [
    "### Write to Excel"
   ]
  },
  {
   "cell_type": "code",
   "execution_count": 43,
   "metadata": {},
   "outputs": [],
   "source": [
    "with pd.ExcelWriter(f'dev_summary_{today_date}.xlsx') as writer:\n",
    "    campaign_summary.to_excel(writer, sheet_name='campaign_summary', index=False)\n",
    "    solicitor_summary.to_excel(writer, sheet_name='solicitor_summary', index=False)"
   ]
  }
 ],
 "metadata": {
  "kernelspec": {
   "display_name": "Python 3",
   "language": "python",
   "name": "python3"
  },
  "language_info": {
   "codemirror_mode": {
    "name": "ipython",
    "version": 3
   },
   "file_extension": ".py",
   "mimetype": "text/x-python",
   "name": "python",
   "nbconvert_exporter": "python",
   "pygments_lexer": "ipython3",
   "version": "3.7.3"
  }
 },
 "nbformat": 4,
 "nbformat_minor": 2
}
