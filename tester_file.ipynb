{
 "cells": [
  {
   "cell_type": "code",
   "execution_count": 1,
   "metadata": {},
   "outputs": [],
   "source": [
    "from data_structures.queue import ArrayQueue, LinkedQueue, CircularQueue\n",
    "from data_structures.stack import ArrayStack, LinkedStack\n",
    "from data_structures.deque import LinkedDeque\n",
    "from data_structures.positional import PositionalList\n",
    "from algorithms.sort.insertion_sort import insertion_sort_pos_list\n",
    "from data_structures.tree import LinkedBinaryTree"
   ]
  },
  {
   "cell_type": "code",
   "execution_count": 2,
   "metadata": {},
   "outputs": [],
   "source": [
    "lq = LinkedQueue()\n",
    "ls = LinkedStack()\n",
    "aq = ArrayQueue()\n",
    "ast = ArrayStack()\n",
    "cq = CircularQueue()\n",
    "ld = LinkedDeque()\n",
    "pl = PositionalList()\n",
    "bt = LinkedBinaryTree()"
   ]
  },
  {
   "cell_type": "code",
   "execution_count": 3,
   "metadata": {},
   "outputs": [
    {
     "data": {
      "text/plain": [
       "<data_structures.tree.linked_binary.LinkedBinaryTree.Position at 0x7fe558463a58>"
      ]
     },
     "execution_count": 3,
     "metadata": {},
     "output_type": "execute_result"
    }
   ],
   "source": [
    "bt._add_root(10)"
   ]
  },
  {
   "cell_type": "code",
   "execution_count": 4,
   "metadata": {},
   "outputs": [
    {
     "data": {
      "text/plain": [
       "<data_structures.tree.linked_binary.LinkedBinaryTree.Position at 0x7fe558463d30>"
      ]
     },
     "execution_count": 4,
     "metadata": {},
     "output_type": "execute_result"
    }
   ],
   "source": [
    "bt._add_right(bt.root(), 12)"
   ]
  },
  {
   "cell_type": "code",
   "execution_count": 5,
   "metadata": {},
   "outputs": [
    {
     "data": {
      "text/plain": [
       "<data_structures.tree.linked_binary.LinkedBinaryTree.Position at 0x7fe5583fc198>"
      ]
     },
     "execution_count": 5,
     "metadata": {},
     "output_type": "execute_result"
    }
   ],
   "source": [
    "bt._add_left(bt.root(), 15)"
   ]
  },
  {
   "cell_type": "code",
   "execution_count": null,
   "metadata": {},
   "outputs": [],
   "source": []
  }
 ],
 "metadata": {
  "kernelspec": {
   "display_name": "Python 3",
   "language": "python",
   "name": "python3"
  },
  "language_info": {
   "codemirror_mode": {
    "name": "ipython",
    "version": 3
   },
   "file_extension": ".py",
   "mimetype": "text/x-python",
   "name": "python",
   "nbconvert_exporter": "python",
   "pygments_lexer": "ipython3",
   "version": "3.7.3"
  }
 },
 "nbformat": 4,
 "nbformat_minor": 2
}
