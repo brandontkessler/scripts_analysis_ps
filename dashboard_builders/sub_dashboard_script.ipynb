{
 "cells": [
  {
   "cell_type": "code",
   "execution_count": 1,
   "metadata": {},
   "outputs": [],
   "source": [
    "from data_transformations_ps import Subscriptions, Tickets"
   ]
  },
  {
   "cell_type": "code",
   "execution_count": 2,
   "metadata": {},
   "outputs": [],
   "source": [
    "subs = Subscriptions(fy=20)\n",
    "tix = Tickets(fys=[num for num in range(2017,2021)])"
   ]
  },
  {
   "cell_type": "code",
   "execution_count": 5,
   "metadata": {},
   "outputs": [
    {
     "data": {
      "text/plain": [
       "Tickets(fys='[2017, 2018, 2019, 2020]')"
      ]
     },
     "execution_count": 5,
     "metadata": {},
     "output_type": "execute_result"
    }
   ],
   "source": [
    "tix.convert_dates().transform_price_type_group().drop_bad_ids().drop_na_rows().drop_unsold()"
   ]
  },
  {
   "cell_type": "code",
   "execution_count": 6,
   "metadata": {},
   "outputs": [],
   "source": [
    "three_concerts = tix.three_attendances(current_subs=subs.customer_numbers)"
   ]
  },
  {
   "cell_type": "code",
   "execution_count": 9,
   "metadata": {},
   "outputs": [],
   "source": [
    "sub_kpis = {\n",
    "    'total subs': subs.total_subs,\n",
    "    'seats per sub': subs.total_seats(),\n",
    "    'retention': subs.retention(),\n",
    "    'new': subs.new(),\n",
    "    'three_concerts_all_fys': three_concerts.all_fys,\n",
    "    'three_concerts_current_fy': three_concerts.current_fy\n",
    "}"
   ]
  },
  {
   "cell_type": "code",
   "execution_count": 10,
   "metadata": {},
   "outputs": [
    {
     "data": {
      "text/plain": [
       "{'total subs': 8110,\n",
       " 'seats per sub': 5.8,\n",
       " 'retention': 61.21,\n",
       " 'new': 730,\n",
       " 'three_concerts_all_fys': 6326,\n",
       " 'three_concerts_current_fy': 0}"
      ]
     },
     "execution_count": 10,
     "metadata": {},
     "output_type": "execute_result"
    }
   ],
   "source": [
    "sub_kpis"
   ]
  },
  {
   "cell_type": "code",
   "execution_count": null,
   "metadata": {},
   "outputs": [],
   "source": []
  }
 ],
 "metadata": {
  "kernelspec": {
   "display_name": "Python 3",
   "language": "python",
   "name": "python3"
  },
  "language_info": {
   "codemirror_mode": {
    "name": "ipython",
    "version": 3
   },
   "file_extension": ".py",
   "mimetype": "text/x-python",
   "name": "python",
   "nbconvert_exporter": "python",
   "pygments_lexer": "ipython3",
   "version": "3.7.3"
  }
 },
 "nbformat": 4,
 "nbformat_minor": 2
}
